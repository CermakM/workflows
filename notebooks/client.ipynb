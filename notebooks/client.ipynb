{
 "cells": [
  {
   "cell_type": "markdown",
   "metadata": {
    "toc": true
   },
   "source": [
    "<h1>Table of Contents<span class=\"tocSkip\"></span></h1>\n",
    "<div class=\"toc\"><ul class=\"toc-item\"><li><span><a href=\"#Prerequisites\" data-toc-modified-id=\"Prerequisites-1\"><span class=\"toc-item-num\">1&nbsp;&nbsp;</span>Prerequisites</a></span></li><li><span><a href=\"#Argo-deployment\" data-toc-modified-id=\"Argo-deployment-2\"><span class=\"toc-item-num\">2&nbsp;&nbsp;</span>Argo deployment</a></span></li><li><span><a href=\"#Client\" data-toc-modified-id=\"Client-3\"><span class=\"toc-item-num\">3&nbsp;&nbsp;</span>Client</a></span></li><li><span><a href=\"#Workflows\" data-toc-modified-id=\"Workflows-4\"><span class=\"toc-item-num\">4&nbsp;&nbsp;</span>Workflows</a></span><ul class=\"toc-item\"><li><span><a href=\"#Create\" data-toc-modified-id=\"Create-4.1\"><span class=\"toc-item-num\">4.1&nbsp;&nbsp;</span>Create</a></span></li><li><span><a href=\"#Get\" data-toc-modified-id=\"Get-4.2\"><span class=\"toc-item-num\">4.2&nbsp;&nbsp;</span>Get</a></span></li><li><span><a href=\"#Patch\" data-toc-modified-id=\"Patch-4.3\"><span class=\"toc-item-num\">4.3&nbsp;&nbsp;</span>Patch</a></span></li><li><span><a href=\"#Watch\" data-toc-modified-id=\"Watch-4.4\"><span class=\"toc-item-num\">4.4&nbsp;&nbsp;</span>Watch</a></span></li><li><span><a href=\"#Delete\" data-toc-modified-id=\"Delete-4.5\"><span class=\"toc-item-num\">4.5&nbsp;&nbsp;</span>Delete</a></span></li></ul></li></ul></div>"
   ]
  },
  {
   "cell_type": "markdown",
   "metadata": {},
   "source": [
    "## Requirements <a class=\"tocSkip\">"
   ]
  },
  {
   "cell_type": "code",
   "execution_count": null,
   "metadata": {
    "ExecuteTime": {
     "end_time": "2019-10-24T10:43:46.230107Z",
     "start_time": "2019-10-24T10:43:46.192027Z"
    },
    "require": []
   },
   "outputs": [],
   "source": [
    "%dep clear"
   ]
  },
  {
   "cell_type": "code",
   "execution_count": null,
   "metadata": {
    "ExecuteTime": {
     "end_time": "2019-10-24T10:43:47.225705Z",
     "start_time": "2019-10-24T10:43:47.207090Z"
    },
    "require": []
   },
   "outputs": [],
   "source": [
    "%%requirements\n",
    "\n",
    "[[source]]\n",
    "name = \"pypi\"\n",
    "url = \"https://pypi.org/simple\"\n",
    "verify_ssl = true\n",
    "\n",
    "[packages]\n",
    "argo-workflows = \">=1.0\"\n",
    "\n",
    "[requires]\n",
    "python_version = \"3.6\""
   ]
  },
  {
   "cell_type": "code",
   "execution_count": null,
   "metadata": {
    "ExecuteTime": {
     "end_time": "2019-10-24T10:44:08.413599Z",
     "start_time": "2019-10-24T10:44:06.089336Z"
    },
    "require": []
   },
   "outputs": [],
   "source": [
    "%dep ensure --engine=pipenv argo-workflows"
   ]
  },
  {
   "cell_type": "markdown",
   "metadata": {},
   "source": [
    "## Prerequisites"
   ]
  },
  {
   "cell_type": "markdown",
   "metadata": {
    "ExecuteTime": {
     "end_time": "2019-10-24T09:04:12.307124Z",
     "start_time": "2019-10-24T09:04:12.287483Z"
    }
   },
   "source": [
    "Running Kubernetes/OpenShift cluster.\n",
    "\n",
    "See for example [minishift](https://www.okd.io/minishift/) or [minikube](https://kubernetes.io/docs/setup/learning-environment/minikube/)"
   ]
  },
  {
   "cell_type": "markdown",
   "metadata": {},
   "source": [
    "## Argo deployment"
   ]
  },
  {
   "cell_type": "markdown",
   "metadata": {},
   "source": [
    "To deploy argo into the namespace, make use of the prepared [Provisioning Playbooks](../playbooks/provisioning.yaml):\n",
    "\n",
    "Make sure you have Argo CRDs present in the cluster and run the playbook:\n",
    "\n",
    "```\n",
    "ansible-playbook playbooks/provisioning.yaml --ask-vault-pass\n",
    "```\n",
    "\n",
    "The default namespace assumed is `argo`, you can change it in any point by running\n",
    "\n",
    "```\n",
    "ansible-playbook playbooks/provisioning.yaml --e namespace=<custom-namespace> --ask-vault-pass\n",
    "```\n",
    "\n",
    "or by modifying the Playbook."
   ]
  },
  {
   "cell_type": "markdown",
   "metadata": {},
   "source": [
    "## Client"
   ]
  },
  {
   "cell_type": "code",
   "execution_count": null,
   "metadata": {
    "ExecuteTime": {
     "end_time": "2019-10-24T10:44:30.810241Z",
     "start_time": "2019-10-24T10:44:28.656805Z"
    }
   },
   "outputs": [],
   "source": [
    "from argo.workflows.client import ApiClient\n",
    "from argo.workflows.client import V1alpha1Api\n",
    "\n",
    "from argo.workflows.config import load_kube_config"
   ]
  },
  {
   "cell_type": "code",
   "execution_count": null,
   "metadata": {
    "ExecuteTime": {
     "end_time": "2019-10-24T10:44:30.969035Z",
     "start_time": "2019-10-24T10:44:30.812840Z"
    }
   },
   "outputs": [],
   "source": [
    "load_kube_config()  # loads local configuration from ~/.kube/config"
   ]
  },
  {
   "cell_type": "markdown",
   "metadata": {},
   "source": [
    "> For in-cluster configuration, use the `load_incluster_config()` or create a new client manually with `new_client_from_config()` functions"
   ]
  },
  {
   "cell_type": "markdown",
   "metadata": {},
   "source": [
    "Set the namespace the argo is deployed in"
   ]
  },
  {
   "cell_type": "code",
   "execution_count": null,
   "metadata": {
    "ExecuteTime": {
     "end_time": "2019-10-24T10:44:33.609113Z",
     "start_time": "2019-10-24T10:44:33.593152Z"
    }
   },
   "outputs": [],
   "source": [
    "namespace = \"argo\""
   ]
  },
  {
   "cell_type": "markdown",
   "metadata": {},
   "source": [
    "Instantiate the API"
   ]
  },
  {
   "cell_type": "code",
   "execution_count": null,
   "metadata": {
    "ExecuteTime": {
     "end_time": "2019-10-24T10:44:36.206388Z",
     "start_time": "2019-10-24T10:44:36.144841Z"
    }
   },
   "outputs": [],
   "source": [
    "api = ApiClient()\n",
    "v1alpha1 = V1alpha1Api(api)"
   ]
  },
  {
   "cell_type": "markdown",
   "metadata": {},
   "source": [
    "And to list Workflows from a namespace (say argo):"
   ]
  },
  {
   "cell_type": "code",
   "execution_count": null,
   "metadata": {
    "ExecuteTime": {
     "end_time": "2019-10-24T10:44:36.545606Z",
     "start_time": "2019-10-24T10:44:36.397588Z"
    }
   },
   "outputs": [],
   "source": [
    "wfs = v1alpha1.list_namespaced_workflows(namespace)\n",
    "wfs"
   ]
  },
  {
   "cell_type": "markdown",
   "metadata": {},
   "source": [
    "## Workflows"
   ]
  },
  {
   "cell_type": "markdown",
   "metadata": {},
   "source": [
    "Load an example workflow from the [examples](../examples/) folder"
   ]
  },
  {
   "cell_type": "code",
   "execution_count": null,
   "metadata": {
    "ExecuteTime": {
     "end_time": "2019-10-23T13:43:44.263022Z",
     "start_time": "2019-10-23T13:43:44.257599Z"
    }
   },
   "outputs": [],
   "source": [
    "import yaml\n",
    "from pathlib import Path"
   ]
  },
  {
   "cell_type": "code",
   "execution_count": null,
   "metadata": {
    "ExecuteTime": {
     "end_time": "2019-10-24T07:17:45.654289Z",
     "start_time": "2019-10-24T07:17:45.618427Z"
    }
   },
   "outputs": [],
   "source": [
    "wf = yaml.safe_load(Path('../examples/inspection-batch.yaml').read_text())\n",
    "wf"
   ]
  },
  {
   "cell_type": "markdown",
   "metadata": {},
   "source": [
    "### Create"
   ]
  },
  {
   "cell_type": "markdown",
   "metadata": {},
   "source": [
    "Create a workflow from the yaml specification"
   ]
  },
  {
   "cell_type": "code",
   "execution_count": null,
   "metadata": {
    "ExecuteTime": {
     "end_time": "2019-10-24T07:17:48.730707Z",
     "start_time": "2019-10-24T07:17:48.707864Z"
    }
   },
   "outputs": [],
   "source": [
    "wf = v1alpha1.create_namespaced_workflow(namespace, wf)\n",
    "wf"
   ]
  },
  {
   "cell_type": "markdown",
   "metadata": {},
   "source": [
    "### Get"
   ]
  },
  {
   "cell_type": "code",
   "execution_count": null,
   "metadata": {
    "ExecuteTime": {
     "end_time": "2019-10-24T07:17:48.730707Z",
     "start_time": "2019-10-24T07:17:48.707864Z"
    }
   },
   "outputs": [],
   "source": [
    "wf = v1alpha1.get_namespaced_workflow(namespace, wf)\n",
    "wf"
   ]
  },
  {
   "cell_type": "markdown",
   "metadata": {},
   "source": [
    "### Patch"
   ]
  },
  {
   "cell_type": "markdown",
   "metadata": {},
   "source": [
    "Let's say that we want to patch the workflow now to run with `batch_size = 1`"
   ]
  },
  {
   "cell_type": "code",
   "execution_count": null,
   "metadata": {
    "ExecuteTime": {
     "end_time": "2019-10-24T07:04:05.929381Z",
     "start_time": "2019-10-24T07:04:05.896019Z"
    }
   },
   "outputs": [],
   "source": [
    "patch = [{\n",
    "    \"op\": \"replace\",\n",
    "    \"path\": \"/spec/arguments/parameters/0/value\",\n",
    "    \"value\": '1'\n",
    "}]\n",
    "\n",
    "v1alpha1.patch_namespaced_workflow(namespace, wf[\"metadata\"][\"name\"], patch)"
   ]
  },
  {
   "cell_type": "markdown",
   "metadata": {},
   "source": [
    "### Watch"
   ]
  },
  {
   "cell_type": "markdown",
   "metadata": {},
   "source": [
    "Watching the workflow resources works the way Kubernetes users are used to"
   ]
  },
  {
   "cell_type": "code",
   "execution_count": null,
   "metadata": {
    "ExecuteTime": {
     "end_time": "2019-10-24T07:48:16.989024Z",
     "start_time": "2019-10-24T07:48:16.672706Z"
    },
    "scrolled": false
   },
   "outputs": [],
   "source": [
    "from argo.workflows import watch\n",
    "\n",
    "w = watch.Watch()\n",
    "for event in w.stream(v1alpha1.list_namespaced_workflows, namespace=namespace):\n",
    "    print(event)\n",
    "    break"
   ]
  },
  {
   "cell_type": "markdown",
   "metadata": {},
   "source": [
    "### Delete"
   ]
  },
  {
   "cell_type": "markdown",
   "metadata": {},
   "source": [
    "And delete the workflow"
   ]
  },
  {
   "cell_type": "code",
   "execution_count": null,
   "metadata": {
    "ExecuteTime": {
     "end_time": "2019-10-24T07:04:36.993741Z",
     "start_time": "2019-10-24T07:04:36.952857Z"
    }
   },
   "outputs": [],
   "source": [
    "v1alpha1.delete_namespaced_workflow(namespace, wf[\"metadata\"][\"name\"])"
   ]
  }
 ],
 "metadata": {
  "finalized": {
   "timestamp": 1571830765365,
   "trusted": true
  },
  "hide_input": false,
  "kernelspec": {
   "display_name": "argo-workflows",
   "language": "python",
   "name": "argo-workflows"
  },
  "language_info": {
   "codemirror_mode": {
    "name": "ipython",
    "version": 3
   },
   "file_extension": ".py",
   "mimetype": "text/x-python",
   "name": "python",
   "nbconvert_exporter": "python",
   "pygments_lexer": "ipython3",
   "version": "3.6.8"
  },
  "requirements": {
   "dev-packages": {},
   "packages": {
    "argo-workflows": ">=1.0"
   },
   "requires": {
    "python_version": "3.6"
   },
   "source": [
    {
     "name": "pypi",
     "url": "https://pypi.org/simple",
     "verify_ssl": true
    }
   ]
  },
  "requirements_locked": {
   "_meta": {
    "hash": {
     "sha256": "415dfdcb118dd9bdfef17671cb7dcd78dbd69b6ae7d4f39e8b44e71d60ca72e7"
    },
    "requires": {
     "python_version": "3.6"
    },
    "sources": [
     {
      "name": "pypi",
      "url": "https://pypi.org/simple",
      "verify_ssl": true
     }
    ]
   },
   "default": {},
   "develop": {}
  },
  "toc": {
   "base_numbering": 1,
   "nav_menu": {},
   "number_sections": true,
   "sideBar": true,
   "skip_h1_title": true,
   "title_cell": "Table of Contents",
   "title_sidebar": "Contents",
   "toc_cell": true,
   "toc_position": {},
   "toc_section_display": true,
   "toc_window_display": false
  }
 },
 "nbformat": 4,
 "nbformat_minor": 2
}
