{
 "cells": [
  {
   "cell_type": "markdown",
   "metadata": {
    "slideshow": {
     "slide_type": "fragment"
    },
    "toc": true
   },
   "source": [
    "<h1>Table of Contents<span class=\"tocSkip\"></span></h1>\n",
    "<div class=\"toc\"><ul class=\"toc-item\"></ul></div>"
   ]
  },
  {
   "cell_type": "markdown",
   "metadata": {},
   "source": [
    "# Amun Inspection Workflow"
   ]
  },
  {
   "cell_type": "code",
   "execution_count": null,
   "metadata": {
    "ExecuteTime": {
     "end_time": "2019-11-25T20:01:01.153014Z",
     "start_time": "2019-11-25T20:01:01.052234Z"
    }
   },
   "outputs": [],
   "source": [
    "%load_ext autoreload\n",
    "%autoreload 2"
   ]
  },
  {
   "cell_type": "code",
   "execution_count": null,
   "metadata": {
    "ExecuteTime": {
     "end_time": "2019-11-25T20:01:01.170803Z",
     "start_time": "2019-11-25T20:01:01.156889Z"
    }
   },
   "outputs": [],
   "source": [
    "import json\n",
    "import sys"
   ]
  },
  {
   "cell_type": "code",
   "execution_count": null,
   "metadata": {
    "ExecuteTime": {
     "end_time": "2019-11-25T20:01:01.220149Z",
     "start_time": "2019-11-25T20:01:01.173119Z"
    }
   },
   "outputs": [],
   "source": [
    "USER, = !echo \"$$USER\"\n",
    "\n",
    "sys.path.insert(0, f\"/home/{USER}/code/amun-api/\")\n",
    "sys.path.insert(0, f\"/home/{USER}/code/argo-python-client/\")\n",
    "sys.path.insert(0, f\"/home/{USER}/code/common/\")"
   ]
  },
  {
   "cell_type": "markdown",
   "metadata": {},
   "source": [
    "---"
   ]
  },
  {
   "cell_type": "code",
   "execution_count": null,
   "metadata": {
    "ExecuteTime": {
     "end_time": "2019-11-25T20:01:01.309918Z",
     "start_time": "2019-11-25T20:01:01.227384Z"
    }
   },
   "outputs": [],
   "source": [
    "# Provided via https://github.com/thoth-station/amun-api\n",
    "\n",
    "from amun.dockerfile import create_dockerfile"
   ]
  },
  {
   "cell_type": "code",
   "execution_count": null,
   "metadata": {
    "ExecuteTime": {
     "end_time": "2019-11-25T20:01:02.000848Z",
     "start_time": "2019-11-25T20:01:01.311777Z"
    }
   },
   "outputs": [],
   "source": [
    "from thoth.common.workflows import Workflow\n",
    "from thoth.common.workflows import WorkflowManager"
   ]
  },
  {
   "cell_type": "code",
   "execution_count": null,
   "metadata": {
    "ExecuteTime": {
     "end_time": "2019-11-25T20:01:02.022870Z",
     "start_time": "2019-11-25T20:01:02.003357Z"
    }
   },
   "outputs": [],
   "source": [
    "from thoth.common.logging import init_logging"
   ]
  },
  {
   "cell_type": "code",
   "execution_count": null,
   "metadata": {
    "ExecuteTime": {
     "end_time": "2019-11-25T20:01:02.050694Z",
     "start_time": "2019-11-25T20:01:02.024941Z"
    }
   },
   "outputs": [],
   "source": [
    "init_logging({'thoth.common.workflows': 'INFO'})"
   ]
  },
  {
   "cell_type": "markdown",
   "metadata": {},
   "source": [
    "---"
   ]
  },
  {
   "cell_type": "code",
   "execution_count": null,
   "metadata": {
    "ExecuteTime": {
     "end_time": "2019-11-25T20:01:02.080992Z",
     "start_time": "2019-11-25T20:01:02.053916Z"
    }
   },
   "outputs": [],
   "source": [
    "namespace = \"macermak-thoth-dev\""
   ]
  },
  {
   "cell_type": "code",
   "execution_count": null,
   "metadata": {
    "ExecuteTime": {
     "end_time": "2019-11-25T20:01:02.114085Z",
     "start_time": "2019-11-25T20:01:02.085129Z"
    }
   },
   "outputs": [],
   "source": [
    "%env THOTH_AMUN_INFRA_NAMESPACE      $namespace \n",
    "%env THOTH_AMUN_INSPECTION_NAMESPACE $namespace\n",
    "%env THOTH_WORKFLOW_CONTEXT          true"
   ]
  },
  {
   "cell_type": "code",
   "execution_count": null,
   "metadata": {
    "ExecuteTime": {
     "end_time": "2019-11-25T20:01:03.214807Z",
     "start_time": "2019-11-25T20:01:02.116245Z"
    },
    "scrolled": true
   },
   "outputs": [],
   "source": [
    "workflow_manager = WorkflowManager(ocp_config={\n",
    "    \"kubernetes_verify_tls\": False\n",
    "})"
   ]
  },
  {
   "cell_type": "markdown",
   "metadata": {},
   "source": [
    "---"
   ]
  },
  {
   "cell_type": "code",
   "execution_count": null,
   "metadata": {
    "ExecuteTime": {
     "end_time": "2019-11-25T20:01:04.651592Z",
     "start_time": "2019-11-25T20:01:04.542244Z"
    }
   },
   "outputs": [],
   "source": [
    "specification = {\n",
    "  \"base\": \"registry.access.redhat.com/ubi8/python-36\",\n",
    "  \"build\": {\n",
    "    \"requests\": {\n",
    "      \"cpu\": \"500m\",\n",
    "      \"hardware\": {\n",
    "        \"cpu_family\": 6,\n",
    "        \"cpu_model\": 94,\n",
    "        \"physical_cpus\": 32, \"processor\": \"Intel-Xeon-Processor-Skylake-IBRS\"\n",
    "      },\n",
    "      \"memory\": \"1Gi\"\n",
    "    }\n",
    "  },\n",
    "  \"identifier\": \"test-inspection\",\n",
    "  \"python_packages\": [\n",
    "    \"pipenv\"\n",
    "  ],\n",
    "  \"run\": {\n",
    "    \"requests\": {\n",
    "      \"cpu\": \"500m\",\n",
    "      \"hardware\": {\n",
    "        \"cpu_family\": 6,\n",
    "        \"cpu_model\": 94,\n",
    "        \"physical_cpus\": 32,\n",
    "        \"processor\": \"Intel-Xeon-Processor-Skylake-IBRS\"\n",
    "      },\n",
    "      \"memory\": \"256Mi\"\n",
    "    }\n",
    "  },\n",
    "  \"script\": \"#!/usr/bin/bash\\necho \\\"Here should be run tests...\\\"\\n\",\n",
    "}"
   ]
  },
  {
   "cell_type": "code",
   "execution_count": null,
   "metadata": {
    "ExecuteTime": {
     "end_time": "2019-11-25T20:01:04.684157Z",
     "start_time": "2019-11-25T20:01:04.657015Z"
    }
   },
   "outputs": [],
   "source": [
    "dockerfile, _ = create_dockerfile(specification)"
   ]
  },
  {
   "cell_type": "code",
   "execution_count": null,
   "metadata": {
    "ExecuteTime": {
     "end_time": "2019-11-25T20:01:04.707063Z",
     "start_time": "2019-11-25T20:01:04.687795Z"
    }
   },
   "outputs": [],
   "source": [
    "inspection_id = \"test-inspection-v2\"\n",
    "\n",
    "template_parameters = {\n",
    "    \"AMUN_INSPECTION_ID\": inspection_id,\n",
    "    \"THOTH_INFRA_NAMESPACE\": namespace\n",
    "}\n",
    "\n",
    "workflow_parameters=dict(\n",
    "    dockerfile=dockerfile,\n",
    "    specification=json.dumps(specification)\n",
    ")"
   ]
  },
  {
   "cell_type": "code",
   "execution_count": null,
   "metadata": {
    "ExecuteTime": {
     "end_time": "2019-11-25T20:02:47.224078Z",
     "start_time": "2019-11-25T20:02:43.512774Z"
    }
   },
   "outputs": [],
   "source": [
    "!argo delete --all\n",
    "\n",
    "workflow_id = workflow_manager.submit_inspection_workflow(\n",
    "    inspection_id,\n",
    "    template_parameters=template_parameters,\n",
    "    workflow_parameters=workflow_parameters,\n",
    ")\n",
    "\n",
    "workflow_id"
   ]
  },
  {
   "cell_type": "code",
   "execution_count": null,
   "metadata": {
    "ExecuteTime": {
     "end_time": "2019-11-25T20:01:11.939097Z",
     "start_time": "2019-11-25T20:01:10.609328Z"
    },
    "scrolled": true
   },
   "outputs": [],
   "source": [
    "!argo watch $workflow_id"
   ]
  },
  {
   "cell_type": "markdown",
   "metadata": {},
   "source": [
    "---"
   ]
  }
 ],
 "metadata": {
  "finalized": {
   "timestamp": 1573826024043,
   "trusted": true
  },
  "hide_input": false,
  "kernelspec": {
   "display_name": "Python3.6",
   "language": "python",
   "name": "python3.6"
  },
  "language_info": {
   "codemirror_mode": {
    "name": "ipython",
    "version": 3
   },
   "file_extension": ".py",
   "mimetype": "text/x-python",
   "name": "python",
   "nbconvert_exporter": "python",
   "pygments_lexer": "ipython3",
   "version": "3.6.8"
  },
  "requirements": {
   "aliases": {},
   "dev-packages": {},
   "packages": {
    "argo-workflows": "==2.1.1",
    "thoth-common": "==0.9.16"
   },
   "requires": {
    "python_version": "3.6"
   },
   "sources": [
    {
     "name": "pypi",
     "url": "https://pypi.org/simple",
     "verify_ssl": true
    }
   ]
  },
  "toc": {
   "base_numbering": 1,
   "nav_menu": {},
   "number_sections": true,
   "sideBar": true,
   "skip_h1_title": true,
   "title_cell": "Table of Contents",
   "title_sidebar": "Contents",
   "toc_cell": true,
   "toc_position": {},
   "toc_section_display": true,
   "toc_window_display": false
  }
 },
 "nbformat": 4,
 "nbformat_minor": 2
}
